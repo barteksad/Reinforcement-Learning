{
 "metadata": {
  "language_info": {
   "codemirror_mode": {
    "name": "ipython",
    "version": 3
   },
   "file_extension": ".py",
   "mimetype": "text/x-python",
   "name": "python",
   "nbconvert_exporter": "python",
   "pygments_lexer": "ipython3",
   "version": "3.9.5"
  },
  "orig_nbformat": 4,
  "kernelspec": {
   "name": "python3",
   "display_name": "Python 3.9.5 64-bit"
  },
  "interpreter": {
   "hash": "4e1d9a8909477db77738c33245c29c7265277ef753467dede8cf3f814cde494e"
  }
 },
 "nbformat": 4,
 "nbformat_minor": 2,
 "cells": [
  {
   "cell_type": "code",
   "execution_count": 1,
   "metadata": {},
   "outputs": [],
   "source": [
    "import gym\n",
    "\n",
    "import numpy as np\n",
    "import tqdm, random\n",
    "from collections import deque\n",
    "import matplotlib.pyplot as plt   \n",
    "\n",
    "import torch \n",
    "from torch import nn, optim\n",
    "import torch.nn.functional as F"
   ]
  },
  {
   "cell_type": "code",
   "execution_count": 2,
   "metadata": {},
   "outputs": [],
   "source": [
    "debug = True\n",
    "\n",
    "env = gym.make('CartPole-v0')\n",
    "\n",
    "n_episodes = 10_000\n",
    "memory = deque(maxlen=3000)\n",
    "\n",
    "lr = 0.01\n",
    "batch_size = 256\n",
    "\n",
    "gamma = torch.tensor(1.0, dtype=torch.float)\n",
    "\n",
    "epsilon = 1.0\n",
    "epsilon_decay = 0.999\n",
    "\n",
    "copy_step = 10"
   ]
  },
  {
   "cell_type": "code",
   "execution_count": 3,
   "metadata": {},
   "outputs": [
    {
     "output_type": "stream",
     "name": "stdout",
     "text": [
      "tensor([[-7.1579e+35, -3.0531e+35]], grad_fn=<AddmmBackward>)\n"
     ]
    }
   ],
   "source": [
    "class QModel(nn.Module):\n",
    "    def __init__(self):\n",
    "        super().__init__()\n",
    "        self.input_layer = nn.Linear(env.observation_space.shape[0], 16)\n",
    "        self.h1 = nn.Linear(16,16)\n",
    "        self.h2 = nn.Linear(16,16)\n",
    "        self.out_layer = nn.Linear(16,env.action_space.n)\n",
    "\n",
    "    def forward(self, inputs):\n",
    "        h = F.relu(self.input_layer(inputs))\n",
    "        h = F.relu(self.h1(h))\n",
    "        h = F.relu(self.h2(h))\n",
    "        out = self.out_layer(h)\n",
    "        return out\n",
    "\n",
    "model = QModel()\n",
    "target_model = QModel()\n",
    "target_model.load_state_dict(model.state_dict())\n",
    "optimizer = optim.Adam(model.parameters(), lr)\n",
    "scheduler = optim.lr_scheduler.StepLR(optimizer, step_size=1000, gamma=0.01 )\n",
    "\n",
    "if debug:\n",
    "    print(model(torch.atleast_2d(torch.tensor(env.observation_space.sample()))))"
   ]
  },
  {
   "cell_type": "code",
   "execution_count": 4,
   "metadata": {},
   "outputs": [],
   "source": [
    "def remember(state, action, reward, done, next_state):\n",
    "    memory.append((state, action, reward, done, next_state))\n",
    "\n",
    "def get_action(state):\n",
    "    if np.random.normal() < epsilon:\n",
    "        return env.action_space.sample()\n",
    "    else:\n",
    "        model.eval()\n",
    "        with torch.no_grad():\n",
    "            state = torch.tensor(state, dtype=torch.float).view(1,4)\n",
    "            return np.argmax(model(state).cpu().numpy(), -1)[0]\n",
    "\n",
    "def train():\n",
    "    if len(memory) < batch_size:\n",
    "        return\n",
    "    \n",
    "    xb = []\n",
    "    yb = []\n",
    "\n",
    "    for (state, action, reward, done, next_state) in random.sample(memory, batch_size):\n",
    "        with torch.no_grad():\n",
    "            pred_reward = model(torch.tensor(state, dtype=torch.float).view(1,4))\n",
    "            next_reward = target_model(torch.tensor(next_state, dtype=torch.float).view(1,4))\n",
    "            actual_reward = pred_reward[0]\n",
    "            actual_reward[action] = torch.tensor(reward, dtype=torch.float)\n",
    "            if not done:\n",
    "                actual_reward[action] += torch.max(next_reward[0]) * gamma\n",
    "\n",
    "        yb.append(actual_reward)\n",
    "        xb.append(state)\n",
    "        \n",
    "    xb = torch.tensor(xb, dtype=torch.float)\n",
    "    yb = torch.stack(yb)\n",
    "    # print(xb,yb, sep='\\n---\\n', end = '\\n###\\n')\n",
    "    model.train()\n",
    "    y_hat = model(xb)\n",
    "    loss = F.mse_loss(y_hat, yb)\n",
    "    optimizer.zero_grad()\n",
    "    loss.backward()\n",
    "    optimizer.step()\n",
    "    # scheduler.step()\n",
    "\n",
    "def run_episode():\n",
    "\n",
    "    iter = 0\n",
    "    running_reward = 0\n",
    "    state = env.reset()\n",
    "    done = False\n",
    "\n",
    "    while not done:\n",
    "        iter += 1\n",
    "\n",
    "        action = get_action(state)\n",
    "        next_state, reward, done, _ = env.step(action)\n",
    "\n",
    "        if done and iter <  env._max_episode_steps:\n",
    "            reward = -1\n",
    "        \n",
    "        remember(state, action, reward, done, next_state)\n",
    "        running_reward += reward\n",
    "\n",
    "        state = next_state\n",
    "    \n",
    "    return running_reward\n",
    "\n",
    "def run():\n",
    "\n",
    "    global epsilon \n",
    "\n",
    "    pbar = tqdm.tqdm(range(n_episodes))\n",
    "    mean_reward = deque(maxlen=100)\n",
    "\n",
    "    for e in pbar:\n",
    "\n",
    "        reward = run_episode()\n",
    "        mean_reward.append(reward)\n",
    "\n",
    "        pbar.set_postfix({\n",
    "            'episode_reward' : reward,\n",
    "            'mean (100 eps.)' : np.mean(mean_reward),\n",
    "            'epsilon' : epsilon\n",
    "        })\n",
    "\n",
    "        train()\n",
    "        epsilon *= epsilon_decay\n",
    "\n",
    "        if e % copy_step == 0:\n",
    "            target_model.load_state_dict(model.state_dict())\n",
    "            global optimizer\n",
    "            optimizer = optim.Adam(model.parameters(), optimizer.state_dict()['param_groups'][0]['lr'])\n"
   ]
  },
  {
   "cell_type": "code",
   "execution_count": 5,
   "metadata": {
    "tags": []
   },
   "outputs": [
    {
     "output_type": "stream",
     "name": "stderr",
     "text": [
      " 12%|█▏        | 1203/10000 [00:51<06:57, 21.05it/s, episode_reward=122, mean (100 eps.)=79.6, epsilon=0.3]"
     ]
    }
   ],
   "source": [
    "run()"
   ]
  },
  {
   "cell_type": "code",
   "execution_count": null,
   "metadata": {},
   "outputs": [],
   "source": []
  }
 ]
}